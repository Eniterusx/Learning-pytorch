{
 "cells": [
  {
   "cell_type": "markdown",
   "metadata": {},
   "source": [
    "# 01. PyTorch Workflow\n",
    "\n",
    "Exploring an example PyTorch end-to-end workflow."
   ]
  },
  {
   "cell_type": "markdown",
   "metadata": {},
   "source": [
    "## Overview:\n",
    "1. Preparing and loading the data\n",
    "2. Building the model\n",
    "3. Fitting the model to data (training)\n",
    "4. Making predictions and evaluating the model (inference)\n",
    "5. Saving and loading the model\n",
    "6. Putting it all together"
   ]
  },
  {
   "cell_type": "code",
   "execution_count": 2,
   "metadata": {},
   "outputs": [
    {
     "data": {
      "text/plain": [
       "'2.2.0'"
      ]
     },
     "execution_count": 2,
     "metadata": {},
     "output_type": "execute_result"
    }
   ],
   "source": [
    "import torch\n",
    "from torch import nn # nn contains all of the building blocks for creating neural networks\n",
    "import matplotlib.pyplot as plt\n",
    "import numpy as np\n",
    "\n",
    "torch.__version__"
   ]
  },
  {
   "cell_type": "markdown",
   "metadata": {},
   "source": [
    "## 1. Preparing and loading the data\n",
    "\n",
    "In machine learning data can be pretty much anything\n",
    "\n",
    "* Excel spreadsheet\n",
    "* Images\n",
    "* Videos\n",
    "* Text\n",
    "* Audio\n",
    "* DNA apparently!\n",
    "\n",
    "It's all about turning data into a numerical representation and then building a model to learn patterns in that representation.\n",
    "\n",
    "To showcase this, let's create some *known* data using the linear regression formula"
   ]
  },
  {
   "cell_type": "code",
   "execution_count": 3,
   "metadata": {},
   "outputs": [
    {
     "data": {
      "text/plain": [
       "(tensor([[0.0000],\n",
       "         [0.0200],\n",
       "         [0.0400],\n",
       "         [0.0600],\n",
       "         [0.0800],\n",
       "         [0.1000],\n",
       "         [0.1200],\n",
       "         [0.1400],\n",
       "         [0.1600],\n",
       "         [0.1800]]),\n",
       " tensor([[0.3000],\n",
       "         [0.3140],\n",
       "         [0.3280],\n",
       "         [0.3420],\n",
       "         [0.3560],\n",
       "         [0.3700],\n",
       "         [0.3840],\n",
       "         [0.3980],\n",
       "         [0.4120],\n",
       "         [0.4260]]))"
      ]
     },
     "execution_count": 3,
     "metadata": {},
     "output_type": "execute_result"
    }
   ],
   "source": [
    "# create *known* parameters\n",
    "weight = 0.7\n",
    "bias = 0.3\n",
    "\n",
    "# Create data\n",
    "start = 0\n",
    "end = 1\n",
    "step = 0.02\n",
    "X = torch.arange(start, end, step).unsqueeze(dim=1)\n",
    "y = weight * X + bias\n",
    "\n",
    "X[:10], y[:10]"
   ]
  },
  {
   "cell_type": "markdown",
   "metadata": {},
   "source": [
    "### Splitting data into training and test sets (and eventually validation sets)\n",
    "\n",
    "Let's create a training and test set with our data.\n",
    "For now in a simple way, but there's a sklearn function that does it better."
   ]
  },
  {
   "cell_type": "code",
   "execution_count": 4,
   "metadata": {},
   "outputs": [
    {
     "data": {
      "text/plain": [
       "(40, 40, 10, 10)"
      ]
     },
     "execution_count": 4,
     "metadata": {},
     "output_type": "execute_result"
    }
   ],
   "source": [
    "# Create a train/test split\n",
    "train_split = int(0.8 * len(X))\n",
    "\n",
    "X_train, y_train = X[:train_split], y[:train_split]\n",
    "X_test, y_test = X[train_split:], y[train_split:]\n",
    "\n",
    "len(X_train), len(y_train), len(X_test), len(y_test)"
   ]
  },
  {
   "cell_type": "markdown",
   "metadata": {},
   "source": [
    "### Visualizing the data\n",
    "\n",
    "Matplotlib my beloved <3"
   ]
  },
  {
   "cell_type": "code",
   "execution_count": 71,
   "metadata": {},
   "outputs": [],
   "source": [
    "def plot_predictions(train_data=torch.Tensor.cpu(X_train), train_labels=torch.Tensor.cpu(y_train), test_data=torch.Tensor.cpu(X_test), test_labels=torch.Tensor.cpu(y_test), predictions=None):\n",
    "    \"\"\"\n",
    "    Plots training data, test data and compares prediction\n",
    "    \"\"\"\n",
    "    plt.figure(figsize=(10, 7))\n",
    "\n",
    "    # Plot training data in blue\n",
    "    plt.scatter(train_data, train_labels, c=\"b\", s=4, label=\"Training data\")\n",
    "\n",
    "    # Plot test data in green\n",
    "    plt.scatter(test_data, test_labels, c=\"g\", s=4, label=\"Testing data\")\n",
    "\n",
    "    # Are there predictions?\n",
    "    if predictions is not None:\n",
    "        # Plot them!\n",
    "        plt.scatter(test_data, predictions, c=\"r\", s=4, label=\"Predictions\")\n",
    "\n",
    "    # Show the legend\n",
    "    plt.legend(prop={\"size\": 14})"
   ]
  },
  {
   "cell_type": "code",
   "execution_count": 6,
   "metadata": {},
   "outputs": [
    {
     "data": {
      "image/png": "[encoded data removed]",
      "text/plain": [
       "<Figure size 1000x700 with 1 Axes>"
      ]
     },
     "metadata": {},
     "output_type": "display_data"
    }
   ],
   "source": [
    "plot_predictions()"
   ]
  },
  {
   "cell_type": "markdown",
   "metadata": {},
   "source": [
    "## 2. Building the model\n",
    "\n",
    "What our model does:\n",
    "* Start with random values (weight & bias here)\n",
    "* Look at training data and adjust the random values to better represent (or get closer to) the ideal values (the weight & bias values we used to create the data in this example)\n",
    "\n",
    "How does it do so?\n",
    "Through two main algorithms:\n",
    "1. Gradient descent\n",
    "2. Backpropagation"
   ]
  },
  {
   "cell_type": "code",
   "execution_count": 7,
   "metadata": {},
   "outputs": [],
   "source": [
    "# Create linear regression model class\n",
    "class LinearRegressionModel(nn.Module): # <- almost everything in PyTorch inherits from nn.Module\n",
    "    def __init__(self):\n",
    "        super().__init__()\n",
    "        self.weights = nn.Parameter(torch.randn(1,\n",
    "                                    requires_grad=True, # whether  this parameter can be changed via gradient descent\n",
    "                                    dtype=torch.float))\n",
    "        self.bias = nn.Parameter(torch.randn(1,\n",
    "                                 requires_grad=True,\n",
    "                                 dtype=torch.float))\n",
    "        \n",
    "    # Forward method to define the computation in th emodel\n",
    "    def forward(self, x: torch.Tensor) -> torch.Tensor: # <- \"x\" is the input data\n",
    "        return self.weights * x + self.bias # linear regression formula"
   ]
  },
  {
   "cell_type": "markdown",
   "metadata": {},
   "source": [
    "### PyTorch model buiding essentials\n",
    "\n",
    "* torch.nn - contains all of the building blocks for computational graphs (a neural network can be considered a computational graph)\n",
    "* torch.nn.Parameter - what parameters should our model try and learn, often a PyTorch layer from torch.nn will set these for us\n",
    "* torch.nn.Module - the base class for all neural network modules, if you subclass it, you should overwrite forward()\n",
    "* torch.optim - optimization algorithms in PyTorch, they will help with gradient descent\n",
    "* def forward() - all nn.Module subclasses require you to overwrite forward(), this method defines what happens in the forward computation, i.e. how the model makes predictions \n",
    "\n",
    "And more - https://pytorch.org/tutorials/beginner/ptcheat.html"
   ]
  },
  {
   "cell_type": "markdown",
   "metadata": {},
   "source": [
    "### Checking the contents of our PyTorch model\n",
    "\n",
    "Now we've created a model, let's see what's inside.\n",
    "\n",
    "We can check our model parameters or what's inside our model using `.parameters()`."
   ]
  },
  {
   "cell_type": "code",
   "execution_count": 8,
   "metadata": {},
   "outputs": [
    {
     "data": {
      "text/plain": [
       "[Parameter containing:\n",
       " tensor([0.3367], requires_grad=True),\n",
       " Parameter containing:\n",
       " tensor([0.1288], requires_grad=True)]"
      ]
     },
     "execution_count": 8,
     "metadata": {},
     "output_type": "execute_result"
    }
   ],
   "source": [
    "# Create a random seed\n",
    "torch.manual_seed(42)\n",
    "\n",
    "# Create an instance of the model (this is a subclass of nn.Module)\n",
    "model_0 = LinearRegressionModel()\n",
    "\n",
    "# Check out the parameters\n",
    "list(model_0.parameters())"
   ]
  },
  {
   "cell_type": "code",
   "execution_count": 9,
   "metadata": {},
   "outputs": [
    {
     "data": {
      "text/plain": [
       "OrderedDict([('weights', tensor([0.3367])), ('bias', tensor([0.1288]))])"
      ]
     },
     "execution_count": 9,
     "metadata": {},
     "output_type": "execute_result"
    }
   ],
   "source": [
    "# List named parameters\n",
    "model_0.state_dict()"
   ]
  },
  {
   "cell_type": "markdown",
   "metadata": {},
   "source": [
    "### Making prediction using `torch.inference_mode()`\n",
    "\n",
    "To check our model's predictions, let's see how well it predicts `y_test` based on `X_test`.\n",
    "\n",
    "When we pass data through our model, it's going to run it through the `forward()` method.\n",
    "\n",
    "`torch.inference_mode()` turns off PyTorch's gradient tracking, which is useful when we're not training our model (it doesn't have to calculate gradients when making predictions)\n",
    "\n",
    "Old code might use `torch.no_grad()` instead, but it's slower."
   ]
  },
  {
   "cell_type": "code",
   "execution_count": 10,
   "metadata": {},
   "outputs": [
    {
     "data": {
      "text/plain": [
       "(tensor([[0.8000],\n",
       "         [0.8200],\n",
       "         [0.8400],\n",
       "         [0.8600],\n",
       "         [0.8800],\n",
       "         [0.9000],\n",
       "         [0.9200],\n",
       "         [0.9400],\n",
       "         [0.9600],\n",
       "         [0.9800]]),\n",
       " tensor([[0.8600],\n",
       "         [0.8740],\n",
       "         [0.8880],\n",
       "         [0.9020],\n",
       "         [0.9160],\n",
       "         [0.9300],\n",
       "         [0.9440],\n",
       "         [0.9580],\n",
       "         [0.9720],\n",
       "         [0.9860]]))"
      ]
     },
     "execution_count": 10,
     "metadata": {},
     "output_type": "execute_result"
    }
   ],
   "source": [
    "X_test, y_test"
   ]
  },
  {
   "cell_type": "code",
   "execution_count": 11,
   "metadata": {},
   "outputs": [
    {
     "data": {
      "text/plain": [
       "tensor([[0.3982],\n",
       "        [0.4049],\n",
       "        [0.4116],\n",
       "        [0.4184],\n",
       "        [0.4251],\n",
       "        [0.4318],\n",
       "        [0.4386],\n",
       "        [0.4453],\n",
       "        [0.4520],\n",
       "        [0.4588]])"
      ]
     },
     "execution_count": 11,
     "metadata": {},
     "output_type": "execute_result"
    }
   ],
   "source": [
    "# Make predictions with model\n",
    "with torch.inference_mode():\n",
    "    y_preds = model_0(X_test)\n",
    "\n",
    "# This also works, but it's slower\n",
    "# with torch.no_grad():\n",
    "    # y_preds = model_0(X_test)\n",
    "\n",
    "y_preds"
   ]
  },
  {
   "cell_type": "code",
   "execution_count": 12,
   "metadata": {},
   "outputs": [
    {
     "data": {
      "image/png": "[encoded data removed]",
      "text/plain": [
       "<Figure size 1000x700 with 1 Axes>"
      ]
     },
     "metadata": {},
     "output_type": "display_data"
    }
   ],
   "source": [
    "plot_predictions(predictions=y_preds)"
   ]
  },
  {
   "cell_type": "markdown",
   "metadata": {},
   "source": [
    "## 3. Training the model\n",
    "\n",
    "The whole idea of training is for a model to move from some *unknown* parameters (these might be random) to *known* parameters. \n",
    "\n",
    "In other words, from random weights and biases to weights and biases that are closer to the ideal values (from a poor representation of data to a better representation)\n",
    "\n",
    "One way to measure how poor or how wrong the model's prediction are is to use a loss function.\n",
    "\n",
    "* Note: Loss function may also be called cost function or criterion in different areas. For our purposes, we'll use loss function.\n",
    "\n",
    "Things we need to train:\n",
    "\n",
    "* **Loss function:** A function that measures how far off a model's predictions are from its true values. The further away the predictions, the higher the loss.\n",
    "* **Optimizer:** Takes into account the loss of a model and adjusts the model's parameters (weights and biases) to reduce the loss.\n",
    "    * Inside the optimizer we'll often have to set two parameters:\n",
    "        * `params` - the model parameters we'd like to optimize, for example `params=model_0.parameters()`\n",
    "        * `lr` (learning rate) - hyperparameter that defines how big/small are the changes of the model's parameters during optimization (small `lr` - small changes, big `lr` - big changes)\n",
    "\n",
    "And specifically for PyTorch, we need:\n",
    "* A training loop\n",
    "* A testing loop"
   ]
  },
  {
   "cell_type": "code",
   "execution_count": 13,
   "metadata": {},
   "outputs": [
    {
     "data": {
      "text/plain": [
       "OrderedDict([('weights', tensor([0.3367])), ('bias', tensor([0.1288]))])"
      ]
     },
     "execution_count": 13,
     "metadata": {},
     "output_type": "execute_result"
    }
   ],
   "source": [
    "# Check out our model's parameters (a parameter is a value that the model sets itself)\n",
    "model_0.state_dict()"
   ]
  },
  {
   "cell_type": "code",
   "execution_count": 14,
   "metadata": {},
   "outputs": [],
   "source": [
    "# Setup a loss function\n",
    "loss_fn = nn.L1Loss()\n",
    "\n",
    "# Setup an optimizer (Stochastic Gradient Descent)\n",
    "optimizer = torch.optim.SGD(params = model_0.parameters(),\n",
    "                            lr = 0.01) # <- learning rate, probably the most important hyperparameter you can set"
   ]
  },
  {
   "cell_type": "markdown",
   "metadata": {},
   "source": [
    "#### Which loss function/optimizer should I use?\n",
    "\n",
    "It depends on the problem.\n",
    "\n",
    "For regression problems (for example predicting a number), the mean squared error (`nn.MSELoss`) or mean absolute error (`nn.L1Loss()`) loss function and an optimizer like stochastic gradient descent `torch.optim.SGD()` is often used.\n",
    "\n",
    "For a classification problem (predicting whether something is one thing or another), the cross-entropy loss function (`nn.CrossEntropyLoss`) or binary cross-entropy (`nn.BCELoss`) is often used."
   ]
  },
  {
   "cell_type": "markdown",
   "metadata": {},
   "source": [
    "### Building a training loop (and testing loop) in PyTorch\n",
    "\n",
    "A couple of things we need in a training loop:\n",
    "0. Loop through the data\n",
    "1. Forward pass (this involves data moving through our model's `forward()` functions) to make predictions on data - also called forward propagation\n",
    "2. Calculate the loss (compare forward pass prediction to ground truth labels)\n",
    "3. Optimizer zero grad\n",
    "4. Loss backward - move backwards through the network to calculate gradients of each of the parameters of our model with respect to the loss (also called backpropagation)\n",
    "5. Optimizer step - use the optimizer to adjust our model's parameters to reduce the loss (gradient descent)"
   ]
  },
  {
   "cell_type": "code",
   "execution_count": 15,
   "metadata": {},
   "outputs": [
    {
     "name": "stdout",
     "output_type": "stream",
     "text": [
      "Epoch: 10 | Loss: 0.2092 | Test loss: 0.3598\n",
      "Epoch: 20 | Loss: 0.0968 | Test loss: 0.2282\n",
      "Epoch: 30 | Loss: 0.0546 | Test loss: 0.1497\n",
      "Epoch: 40 | Loss: 0.0459 | Test loss: 0.1154\n",
      "Epoch: 50 | Loss: 0.0420 | Test loss: 0.1003\n",
      "Epoch: 60 | Loss: 0.0385 | Test loss: 0.0893\n",
      "Epoch: 70 | Loss: 0.0351 | Test loss: 0.0810\n",
      "Epoch: 80 | Loss: 0.0317 | Test loss: 0.0734\n",
      "Epoch: 90 | Loss: 0.0282 | Test loss: 0.0652\n",
      "Epoch: 100 | Loss: 0.0248 | Test loss: 0.0569\n",
      "Epoch: 110 | Loss: 0.0214 | Test loss: 0.0493\n",
      "Epoch: 120 | Loss: 0.0179 | Test loss: 0.0410\n",
      "Epoch: 130 | Loss: 0.0145 | Test loss: 0.0334\n",
      "Epoch: 140 | Loss: 0.0111 | Test loss: 0.0252\n",
      "Epoch: 150 | Loss: 0.0076 | Test loss: 0.0169\n",
      "Epoch: 160 | Loss: 0.0042 | Test loss: 0.0093\n",
      "Epoch: 170 | Loss: 0.0026 | Test loss: 0.0084\n",
      "Epoch: 180 | Loss: 0.0026 | Test loss: 0.0084\n",
      "Epoch: 190 | Loss: 0.0026 | Test loss: 0.0084\n",
      "Epoch: 200 | Loss: 0.0026 | Test loss: 0.0084\n",
      "OrderedDict({'weights': tensor([0.6990]), 'bias': tensor([0.3093])})\n"
     ]
    }
   ],
   "source": [
    "# An epoch is one loop through the data (this is a hyperparameter because we've set it ourselves)\n",
    "epochs = 200\n",
    "\n",
    "# Track different values\n",
    "epoch_count = []\n",
    "loss_values = []\n",
    "test_loss_values = []\n",
    "\n",
    "# Training loop\n",
    "# 0. Loop through the data\n",
    "# Pass the data through the model for a number of epochs\n",
    "for epoch in range(1, epochs+1):\n",
    "    # Set the model to training mode\n",
    "    model_0.train() # train mode in PyTorch sets the model to be able to update its parameters\n",
    "\n",
    "    # 1. Forward pass\n",
    "    y_pred = model_0(X_train)\n",
    "\n",
    "    # 2. Calculate loss\n",
    "    loss = loss_fn(y_pred, y_train)\n",
    "\n",
    "    # 3. Optimizer zero grad\n",
    "    optimizer.zero_grad() # zero the gradients of the model's parameters\n",
    "\n",
    "    # 4. Backpropagation on the loss with respect to the model's parameters\n",
    "    loss.backward()\n",
    "\n",
    "    # 5. Step the optimizer (perform gradient descent)\n",
    "    optimizer.step() # by default how the optimizer changes will accumulate (add on top of each other), so we need to zero the gradients each time\n",
    "\n",
    "    ### Testing\n",
    "    model_0.eval() # -> eval mode in PyTorch sets the model to only make predictions (no parameter updates)\n",
    "    with torch.inference_mode(): # turns off gradients tracking & a couple more things behind the scenes\n",
    "        # 1. Forward pass\n",
    "        test_pred = model_0(X_test)\n",
    "\n",
    "        # 2. Calculate loss\n",
    "        test_loss = loss_fn(test_pred, y_test)\n",
    "    if epoch % 10 == 0:\n",
    "        epoch_count.append(epoch)\n",
    "        loss_values.append(loss.item())\n",
    "        test_loss_values.append(test_loss.item())\n",
    "        print(f\"Epoch: {epoch} | Loss: {loss:.4f} | Test loss: {test_loss:.4f}\")\n",
    "\n",
    "# Print out model state_dict()\n",
    "print(model_0.state_dict())\n",
    "        "
   ]
  },
  {
   "cell_type": "code",
   "execution_count": 16,
   "metadata": {},
   "outputs": [
    {
     "data": {
      "text/plain": [
       "<matplotlib.legend.Legend at 0x2a06bcc0a40>"
      ]
     },
     "execution_count": 16,
     "metadata": {},
     "output_type": "execute_result"
    },
    {
     "data": {
      "image/png": "[encoded data removed]",
      "text/plain": [
       "<Figure size 400x300 with 1 Axes>"
      ]
     },
     "metadata": {},
     "output_type": "display_data"
    }
   ],
   "source": [
    "# Plot the loss curves\n",
    "plt.figure(figsize=(4, 3))\n",
    "\n",
    "plt.plot(epoch_count, loss_values, label=\"Training loss\")\n",
    "plt.plot(epoch_count, test_loss_values, label=\"Test loss\")\n",
    "plt.title(\"Training and test loss\")\n",
    "plt.ylabel(\"Loss\")\n",
    "plt.xlabel(\"Epochs\")\n",
    "plt.legend()"
   ]
  },
  {
   "cell_type": "code",
   "execution_count": 17,
   "metadata": {},
   "outputs": [
    {
     "data": {
      "text/plain": [
       "OrderedDict([('weights', tensor([0.6990])), ('bias', tensor([0.3093]))])"
      ]
     },
     "execution_count": 17,
     "metadata": {},
     "output_type": "execute_result"
    }
   ],
   "source": [
    "model_0.state_dict()"
   ]
  },
  {
   "cell_type": "code",
   "execution_count": 18,
   "metadata": {},
   "outputs": [
    {
     "data": {
      "image/png": "[encoded data removed]",
      "text/plain": [
       "<Figure size 1000x700 with 1 Axes>"
      ]
     },
     "metadata": {},
     "output_type": "display_data"
    }
   ],
   "source": [
    "# Make predictions with model\n",
    "with torch.inference_mode():\n",
    "    y_preds = model_0(X_test)\n",
    "\n",
    "# This also works, but it's slower\n",
    "# with torch.no_grad():\n",
    "    # y_preds = model_0(X_test)\n",
    "\n",
    "plot_predictions(predictions=y_preds)"
   ]
  },
  {
   "cell_type": "markdown",
   "metadata": {},
   "source": [
    "## 4. Saving a model in PyTorch\n",
    "\n",
    "PyTorch files are usually saved in a `.pt` or `.pth` format.\n",
    "\n",
    "There are three main methods for saving and loading models in PyTorch:\n",
    "\n",
    "1. `torch.save()` - allows you to save a PyTorch object in Python's pickle format\n",
    "2. `torch.load()` - allows you to load a saved PyTorch object\n",
    "3. `torch.nn.Module.load_state_dict()` - allows you to load a model's saved state dictionary\n",
    "\n",
    "https://pytorch.org/tutorials/beginner/saving_loading_models.html"
   ]
  },
  {
   "cell_type": "code",
   "execution_count": 19,
   "metadata": {},
   "outputs": [
    {
     "data": {
      "text/plain": [
       "OrderedDict([('weights', tensor([0.6990])), ('bias', tensor([0.3093]))])"
      ]
     },
     "execution_count": 19,
     "metadata": {},
     "output_type": "execute_result"
    }
   ],
   "source": [
    "model_0.state_dict()"
   ]
  },
  {
   "cell_type": "code",
   "execution_count": 20,
   "metadata": {},
   "outputs": [
    {
     "name": "stdout",
     "output_type": "stream",
     "text": [
      "Saving model state dict to models\\01_model_0.pth...\n"
     ]
    }
   ],
   "source": [
    "# Saving our PyTorch model\n",
    "from pathlib import Path\n",
    "\n",
    "# 1. Create models' directory\n",
    "MODEL_PATH = Path(\"models\")\n",
    "MODEL_PATH.mkdir(parents=True, exist_ok=True)\n",
    "\n",
    "# 2. Create model save path\n",
    "MODEL_NAME = \"01_model_0.pth\"\n",
    "MODEL_SAVE_PATH = MODEL_PATH / MODEL_NAME\n",
    "\n",
    "# 3. Save the model state dict\n",
    "print(f\"Saving model state dict to {MODEL_SAVE_PATH}...\")\n",
    "torch.save(obj=model_0.state_dict(),\n",
    "           f=MODEL_SAVE_PATH)"
   ]
  },
  {
   "cell_type": "markdown",
   "metadata": {},
   "source": [
    "## 5. Loading a PyTorch model\n",
    "\n",
    "Since we saved our model's `state_dict()` rather than the entire model, we'll create a new instance of our model class and load the saved `state_dict()` into that."
   ]
  },
  {
   "cell_type": "code",
   "execution_count": 21,
   "metadata": {},
   "outputs": [
    {
     "data": {
      "text/plain": [
       "<All keys matched successfully>"
      ]
     },
     "execution_count": 21,
     "metadata": {},
     "output_type": "execute_result"
    }
   ],
   "source": [
    "# To load in a saved state_dict we have to instantiate a new instance of our model class\n",
    "loaded_model_0 = LinearRegressionModel()\n",
    "\n",
    "# Load the saved state_dict of model_0 (this will overwrite the parameters of loaded_model_0 with the saved ones)\n",
    "loaded_model_0.load_state_dict(torch.load(f=MODEL_SAVE_PATH))"
   ]
  },
  {
   "cell_type": "code",
   "execution_count": 22,
   "metadata": {},
   "outputs": [
    {
     "data": {
      "text/plain": [
       "OrderedDict([('weights', tensor([0.6990])), ('bias', tensor([0.3093]))])"
      ]
     },
     "execution_count": 22,
     "metadata": {},
     "output_type": "execute_result"
    }
   ],
   "source": [
    "loaded_model_0.state_dict()"
   ]
  },
  {
   "cell_type": "code",
   "execution_count": 23,
   "metadata": {},
   "outputs": [
    {
     "data": {
      "text/plain": [
       "tensor([[0.8685],\n",
       "        [0.8825],\n",
       "        [0.8965],\n",
       "        [0.9105],\n",
       "        [0.9245],\n",
       "        [0.9384],\n",
       "        [0.9524],\n",
       "        [0.9664],\n",
       "        [0.9804],\n",
       "        [0.9944]])"
      ]
     },
     "execution_count": 23,
     "metadata": {},
     "output_type": "execute_result"
    }
   ],
   "source": [
    "# Make predictions with loaded model\n",
    "loaded_model_0.eval() # set to evaluation mode\n",
    "with torch.inference_mode():\n",
    "    loaded_model_preds = loaded_model_0(X_test)\n",
    "\n",
    "loaded_model_preds"
   ]
  },
  {
   "cell_type": "code",
   "execution_count": 24,
   "metadata": {},
   "outputs": [
    {
     "data": {
      "text/plain": [
       "tensor([[0.8685],\n",
       "        [0.8825],\n",
       "        [0.8965],\n",
       "        [0.9105],\n",
       "        [0.9245],\n",
       "        [0.9384],\n",
       "        [0.9524],\n",
       "        [0.9664],\n",
       "        [0.9804],\n",
       "        [0.9944]])"
      ]
     },
     "execution_count": 24,
     "metadata": {},
     "output_type": "execute_result"
    }
   ],
   "source": [
    "model_0.eval()\n",
    "with torch.inference_mode():\n",
    "    model_0_preds = model_0(X_test)\n",
    "\n",
    "model_0_preds"
   ]
  },
  {
   "cell_type": "code",
   "execution_count": 25,
   "metadata": {},
   "outputs": [
    {
     "data": {
      "text/plain": [
       "tensor([[True],\n",
       "        [True],\n",
       "        [True],\n",
       "        [True],\n",
       "        [True],\n",
       "        [True],\n",
       "        [True],\n",
       "        [True],\n",
       "        [True],\n",
       "        [True]])"
      ]
     },
     "execution_count": 25,
     "metadata": {},
     "output_type": "execute_result"
    }
   ],
   "source": [
    "model_0_preds == loaded_model_preds"
   ]
  },
  {
   "cell_type": "markdown",
   "metadata": {},
   "source": [
    "## 6. Revision\n",
    "\n",
    "Also spicing things up a little bit with some more advanced PyTorch concepts."
   ]
  },
  {
   "cell_type": "markdown",
   "metadata": {},
   "source": [
    "Create device-agnostic code.\n",
    "\n",
    "This means if we've got acces to a GPU, our code will use it (for potentially faster computing).\n",
    "\n",
    "If no GPU is available, our code will use the CPU."
   ]
  },
  {
   "cell_type": "code",
   "execution_count": 27,
   "metadata": {},
   "outputs": [
    {
     "name": "stdout",
     "output_type": "stream",
     "text": [
      "Using device: cuda\n"
     ]
    }
   ],
   "source": [
    "# Setup device agnostic code\n",
    "device = \"cuda\" if torch.cuda.is_available() else \"cpu\"\n",
    "print(f\"Using device: {device}\")"
   ]
  },
  {
   "cell_type": "markdown",
   "metadata": {},
   "source": [
    "### 6.1 Data"
   ]
  },
  {
   "cell_type": "code",
   "execution_count": 29,
   "metadata": {},
   "outputs": [
    {
     "data": {
      "text/plain": [
       "(tensor([[0.0000],\n",
       "         [0.0200],\n",
       "         [0.0400],\n",
       "         [0.0600],\n",
       "         [0.0800]]),\n",
       " tensor([[2.1000],\n",
       "         [2.1740],\n",
       "         [2.2480],\n",
       "         [2.3220],\n",
       "         [2.3960]]))"
      ]
     },
     "execution_count": 29,
     "metadata": {},
     "output_type": "execute_result"
    }
   ],
   "source": [
    "# Create some data using the linear regression formula y = weight * X + bias\n",
    "weight = 3.7\n",
    "bias = 2.1\n",
    "\n",
    "# Create range values\n",
    "start = 0\n",
    "end = 1\n",
    "step = 0.02\n",
    "\n",
    "# Create X and y (features and labels)\n",
    "X = torch.arange(start, end, step).unsqueeze(dim=1) # without unsqueeze, X and y would be (50,) instead of (50, 1)\n",
    "y = weight * X + bias\n",
    "\n",
    "X[:5], y[:5]"
   ]
  },
  {
   "cell_type": "code",
   "execution_count": 30,
   "metadata": {},
   "outputs": [
    {
     "data": {
      "text/plain": [
       "(40, 40, 10, 10)"
      ]
     },
     "execution_count": 30,
     "metadata": {},
     "output_type": "execute_result"
    }
   ],
   "source": [
    "# Split data\n",
    "train_split = int(0.8 * len(X))\n",
    "X_train, y_train = X[:train_split], y[:train_split]\n",
    "X_test, y_test = X[train_split:], y[train_split:]\n",
    "len(X_train), len(y_train), len(X_test), len(y_test)"
   ]
  },
  {
   "cell_type": "code",
   "execution_count": 31,
   "metadata": {},
   "outputs": [
    {
     "data": {
      "image/png": "[encoded data removed]",
      "text/plain": [
       "<Figure size 1000x700 with 1 Axes>"
      ]
     },
     "metadata": {},
     "output_type": "display_data"
    }
   ],
   "source": [
    "# Plot the data\n",
    "plot_predictions(X_train, y_train, X_test, y_test)"
   ]
  },
  {
   "cell_type": "markdown",
   "metadata": {},
   "source": [
    "### 6.2 Building a PyTorch linear model"
   ]
  },
  {
   "cell_type": "code",
   "execution_count": 41,
   "metadata": {},
   "outputs": [
    {
     "data": {
      "text/plain": [
       "(LinearRegressionV2(\n",
       "   (linear): Linear(in_features=1, out_features=1, bias=True)\n",
       " ),\n",
       " OrderedDict([('linear.weight', tensor([[0.7645]])),\n",
       "              ('linear.bias', tensor([0.8300]))]))"
      ]
     },
     "execution_count": 41,
     "metadata": {},
     "output_type": "execute_result"
    }
   ],
   "source": [
    "# Create a linear model by subclassing nn.Module\n",
    "\n",
    "class LinearRegressionV2(nn.Module):\n",
    "    def __init__(self):\n",
    "        super().__init__()\n",
    "        # Use nn.Linear() for creating the model parameters\n",
    "        self.linear = nn.Linear(in_features=1, out_features=1)\n",
    "    \n",
    "    def forward(self, x: torch.Tensor) -> torch.Tensor:\n",
    "        return self.linear(x)\n",
    "    \n",
    "# Set the random seed\n",
    "torch.manual_seed(42)\n",
    "\n",
    "# Create a model\n",
    "model_1 = LinearRegressionV2()\n",
    "model_1, model_1.state_dict()"
   ]
  },
  {
   "cell_type": "code",
   "execution_count": 42,
   "metadata": {},
   "outputs": [
    {
     "data": {
      "text/plain": [
       "device(type='cpu')"
      ]
     },
     "execution_count": 42,
     "metadata": {},
     "output_type": "execute_result"
    }
   ],
   "source": [
    "# Check the model current device\n",
    "next(model_1.parameters()).device"
   ]
  },
  {
   "cell_type": "code",
   "execution_count": 43,
   "metadata": {},
   "outputs": [
    {
     "data": {
      "text/plain": [
       "LinearRegressionV2(\n",
       "  (linear): Linear(in_features=1, out_features=1, bias=True)\n",
       ")"
      ]
     },
     "execution_count": 43,
     "metadata": {},
     "output_type": "execute_result"
    }
   ],
   "source": [
    "# Set the model to use the target device\n",
    "model_1.to(device)"
   ]
  },
  {
   "cell_type": "code",
   "execution_count": 44,
   "metadata": {},
   "outputs": [
    {
     "data": {
      "text/plain": [
       "device(type='cuda', index=0)"
      ]
     },
     "execution_count": 44,
     "metadata": {},
     "output_type": "execute_result"
    }
   ],
   "source": [
    "next(model_1.parameters()).device"
   ]
  },
  {
   "cell_type": "markdown",
   "metadata": {},
   "source": [
    "### 6.3 Training code\n",
    "\n",
    "For training we need:\n",
    "* Loss function\n",
    "* Optimizer\n",
    "* Training loop\n",
    "* Testing loop"
   ]
  },
  {
   "cell_type": "code",
   "execution_count": 48,
   "metadata": {},
   "outputs": [],
   "source": [
    "# Setup loss function\n",
    "loss_fn = nn.L1Loss() # same as MAE\n",
    "\n",
    "# Setup optimizer\n",
    "optimizer = torch.optim.SGD(params=model_1.parameters(),\n",
    "                            lr=0.01)"
   ]
  },
  {
   "cell_type": "code",
   "execution_count": 52,
   "metadata": {},
   "outputs": [
    {
     "name": "stdout",
     "output_type": "stream",
     "text": [
      "Epoch: 10 | Loss: 0.0034 | Test loss: 0.0128\n",
      "Epoch: 20 | Loss: 0.0034 | Test loss: 0.0128\n",
      "Epoch: 30 | Loss: 0.0034 | Test loss: 0.0128\n",
      "Epoch: 40 | Loss: 0.0034 | Test loss: 0.0128\n",
      "Epoch: 50 | Loss: 0.0034 | Test loss: 0.0128\n",
      "Epoch: 60 | Loss: 0.0034 | Test loss: 0.0128\n",
      "Epoch: 70 | Loss: 0.0034 | Test loss: 0.0128\n",
      "Epoch: 80 | Loss: 0.0034 | Test loss: 0.0128\n",
      "Epoch: 90 | Loss: 0.0034 | Test loss: 0.0128\n",
      "Epoch: 100 | Loss: 0.0034 | Test loss: 0.0128\n",
      "Epoch: 110 | Loss: 0.0034 | Test loss: 0.0128\n",
      "Epoch: 120 | Loss: 0.0034 | Test loss: 0.0128\n",
      "Epoch: 130 | Loss: 0.0034 | Test loss: 0.0128\n",
      "Epoch: 140 | Loss: 0.0034 | Test loss: 0.0128\n",
      "Epoch: 150 | Loss: 0.0034 | Test loss: 0.0128\n",
      "Epoch: 160 | Loss: 0.0034 | Test loss: 0.0128\n",
      "Epoch: 170 | Loss: 0.0034 | Test loss: 0.0128\n",
      "Epoch: 180 | Loss: 0.0034 | Test loss: 0.0128\n",
      "Epoch: 190 | Loss: 0.0034 | Test loss: 0.0128\n",
      "Epoch: 200 | Loss: 0.0034 | Test loss: 0.0128\n",
      "Epoch: 210 | Loss: 0.0034 | Test loss: 0.0128\n",
      "Epoch: 220 | Loss: 0.0034 | Test loss: 0.0128\n",
      "Epoch: 230 | Loss: 0.0034 | Test loss: 0.0128\n",
      "Epoch: 240 | Loss: 0.0034 | Test loss: 0.0128\n",
      "Epoch: 250 | Loss: 0.0034 | Test loss: 0.0128\n",
      "Epoch: 260 | Loss: 0.0034 | Test loss: 0.0128\n",
      "Epoch: 270 | Loss: 0.0034 | Test loss: 0.0128\n",
      "Epoch: 280 | Loss: 0.0034 | Test loss: 0.0128\n",
      "Epoch: 290 | Loss: 0.0034 | Test loss: 0.0128\n",
      "Epoch: 300 | Loss: 0.0034 | Test loss: 0.0128\n",
      "Epoch: 310 | Loss: 0.0034 | Test loss: 0.0128\n",
      "Epoch: 320 | Loss: 0.0034 | Test loss: 0.0128\n",
      "Epoch: 330 | Loss: 0.0034 | Test loss: 0.0128\n",
      "Epoch: 340 | Loss: 0.0034 | Test loss: 0.0128\n",
      "Epoch: 350 | Loss: 0.0034 | Test loss: 0.0128\n",
      "Epoch: 360 | Loss: 0.0034 | Test loss: 0.0128\n",
      "Epoch: 370 | Loss: 0.0034 | Test loss: 0.0128\n",
      "Epoch: 380 | Loss: 0.0034 | Test loss: 0.0128\n",
      "Epoch: 390 | Loss: 0.0034 | Test loss: 0.0128\n",
      "Epoch: 400 | Loss: 0.0034 | Test loss: 0.0128\n",
      "Epoch: 410 | Loss: 0.0034 | Test loss: 0.0128\n",
      "Epoch: 420 | Loss: 0.0034 | Test loss: 0.0128\n",
      "Epoch: 430 | Loss: 0.0034 | Test loss: 0.0128\n",
      "Epoch: 440 | Loss: 0.0034 | Test loss: 0.0128\n",
      "Epoch: 450 | Loss: 0.0034 | Test loss: 0.0128\n",
      "Epoch: 460 | Loss: 0.0034 | Test loss: 0.0128\n",
      "Epoch: 470 | Loss: 0.0034 | Test loss: 0.0128\n",
      "Epoch: 480 | Loss: 0.0034 | Test loss: 0.0128\n",
      "Epoch: 490 | Loss: 0.0034 | Test loss: 0.0128\n",
      "Epoch: 500 | Loss: 0.0034 | Test loss: 0.0128\n"
     ]
    }
   ],
   "source": [
    "# Let's write a training loop\n",
    "\n",
    "# Set the number of epochs\n",
    "epochs = 500\n",
    "\n",
    "# Track the losses\n",
    "epoch_losses = []\n",
    "losses = []\n",
    "train_losses = []\n",
    "\n",
    "# PUT DATA ON THE RIGHT DEVICE!!! (device agnostic core for data)\n",
    "X_train = X_train.to(device)\n",
    "y_train = y_train.to(device)\n",
    "X_test = X_test.to(device)\n",
    "y_test = y_test.to(device)\n",
    "\n",
    "for epoch in range(1, epochs+1):\n",
    "    model_1.train() # set the model to training mode\n",
    "\n",
    "    # 1. Forward pass\n",
    "    y_pred = model_1(X_train)\n",
    "\n",
    "    # 2. Calculate loss\n",
    "    loss = loss_fn(y_pred, y_train)\n",
    "\n",
    "    # 3. Optimizer zero grad\n",
    "    optimizer.zero_grad()\n",
    "\n",
    "    # 4. Perform backpropagation\n",
    "    loss.backward()\n",
    "\n",
    "    # 5. Step the optimizer\n",
    "    optimizer.step()\n",
    "\n",
    "    ### Testing\n",
    "    model_1.eval() # set the model to evaluation mode\n",
    "    with torch.inference_mode():\n",
    "        test_pred = model_1(X_test)\n",
    "        test_loss = loss_fn(test_pred, y_test)\n",
    "\n",
    "    if epoch % 10 == 0:\n",
    "        epoch_losses.append(epoch)\n",
    "        losses.append(loss.item())\n",
    "        train_losses.append(test_loss.item())\n",
    "        print(f\"Epoch: {epoch} | Loss: {loss:.4f} | Test loss: {test_loss:.4f}\")\n"
   ]
  },
  {
   "cell_type": "code",
   "execution_count": 53,
   "metadata": {},
   "outputs": [
    {
     "data": {
      "text/plain": [
       "OrderedDict([('linear.weight', tensor([[3.6906]], device='cuda:0')),\n",
       "             ('linear.bias', tensor([2.0956], device='cuda:0'))])"
      ]
     },
     "execution_count": 53,
     "metadata": {},
     "output_type": "execute_result"
    }
   ],
   "source": [
    "model_1.state_dict()"
   ]
  },
  {
   "cell_type": "markdown",
   "metadata": {},
   "source": [
    "### 6.4 Making and evaluating predictions"
   ]
  },
  {
   "cell_type": "code",
   "execution_count": 68,
   "metadata": {},
   "outputs": [],
   "source": [
    "# Remember about eval and inference_mode for making predictions\n",
    "model_1.eval()\n",
    "with torch.inference_mode():\n",
    "    y_preds = model_1(X_test)\n",
    "torch.Tensor.cpu(y_preds)"
   ]
  },
  {
   "cell_type": "code",
   "execution_count": 72,
   "metadata": {},
   "outputs": [
    {
     "data": {
      "image/png": "[encoded data removed]",
      "text/plain": [
       "<Figure size 1000x700 with 1 Axes>"
      ]
     },
     "metadata": {},
     "output_type": "display_data"
    }
   ],
   "source": [
    "# Copy the results back to CPU for plotting!\n",
    "plot_predictions(predictions=torch.Tensor.cpu(y_preds))"
   ]
  },
  {
   "cell_type": "markdown",
   "metadata": {},
   "source": [
    "### 6.5 Saving & loading a model"
   ]
  },
  {
   "cell_type": "code",
   "execution_count": 73,
   "metadata": {},
   "outputs": [
    {
     "name": "stdout",
     "output_type": "stream",
     "text": [
      "Saving model state dict to models\\01_model_1.pth...\n"
     ]
    }
   ],
   "source": [
    "from pathlib import Path\n",
    "\n",
    "# Create path\n",
    "MODEL_PATH = Path(\"models\")\n",
    "MODEL_PATH.mkdir(parents=True, exist_ok=True)\n",
    "\n",
    "# Create name\n",
    "MODEL_NAME = \"01_model_1.pth\"\n",
    "MODEL_SAVE_PATH = MODEL_PATH / MODEL_NAME\n",
    "\n",
    "# Save the model state dict\n",
    "print(f\"Saving model state dict to {MODEL_SAVE_PATH}...\")\n",
    "torch.save(obj=model_1.state_dict(),\n",
    "           f=MODEL_SAVE_PATH)"
   ]
  },
  {
   "cell_type": "code",
   "execution_count": 74,
   "metadata": {},
   "outputs": [
    {
     "data": {
      "text/plain": [
       "<All keys matched successfully>"
      ]
     },
     "execution_count": 74,
     "metadata": {},
     "output_type": "execute_result"
    }
   ],
   "source": [
    "# Loading the model\n",
    "\n",
    "# Create a new instance of the model\n",
    "loaded_model_1 = LinearRegressionV2()\n",
    "\n",
    "# Load the saved model_1 state dict into the new model\n",
    "loaded_model_1.load_state_dict(torch.load(f=MODEL_SAVE_PATH))"
   ]
  },
  {
   "cell_type": "code",
   "execution_count": 75,
   "metadata": {},
   "outputs": [
    {
     "data": {
      "text/plain": [
       "OrderedDict([('linear.weight', tensor([[3.6906]])),\n",
       "             ('linear.bias', tensor([2.0956]))])"
      ]
     },
     "execution_count": 75,
     "metadata": {},
     "output_type": "execute_result"
    }
   ],
   "source": [
    "loaded_model_1.state_dict()"
   ]
  },
  {
   "cell_type": "code",
   "execution_count": 76,
   "metadata": {},
   "outputs": [
    {
     "data": {
      "text/plain": [
       "device(type='cpu')"
      ]
     },
     "execution_count": 76,
     "metadata": {},
     "output_type": "execute_result"
    }
   ],
   "source": [
    "# Loaded model is automatically put on cpu\n",
    "next(loaded_model_1.parameters()).device"
   ]
  },
  {
   "cell_type": "code",
   "execution_count": 78,
   "metadata": {},
   "outputs": [
    {
     "data": {
      "text/plain": [
       "device(type='cuda', index=0)"
      ]
     },
     "execution_count": 78,
     "metadata": {},
     "output_type": "execute_result"
    }
   ],
   "source": [
    "# Put the loaded model on the same device as the original model\n",
    "loaded_model_1.to(device)\n",
    "next(loaded_model_1.parameters()).device"
   ]
  },
  {
   "cell_type": "code",
   "execution_count": 81,
   "metadata": {},
   "outputs": [
    {
     "data": {
      "text/plain": [
       "tensor([[True],\n",
       "        [True],\n",
       "        [True],\n",
       "        [True],\n",
       "        [True],\n",
       "        [True],\n",
       "        [True],\n",
       "        [True],\n",
       "        [True],\n",
       "        [True]], device='cuda:0')"
      ]
     },
     "execution_count": 81,
     "metadata": {},
     "output_type": "execute_result"
    }
   ],
   "source": [
    "# Evaluate the loaded model\n",
    "loaded_model_1.eval()\n",
    "with torch.inference_mode():\n",
    "    loaded_preds = loaded_model_1(X_test)\n",
    "y_preds == loaded_preds"
   ]
  },
  {
   "cell_type": "code",
   "execution_count": null,
   "metadata": {},
   "outputs": [],
   "source": []
  }
 ],
 "metadata": {
  "kernelspec": {
   "display_name": "pytorch",
   "language": "python",
   "name": "python3"
  },
  "language_info": {
   "codemirror_mode": {
    "name": "ipython",
    "version": 3
   },
   "file_extension": ".py",
   "mimetype": "text/x-python",
   "name": "python",
   "nbconvert_exporter": "python",
   "pygments_lexer": "ipython3",
   "version": "3.12.1"
  }
 },
 "nbformat": 4,
 "nbformat_minor": 2
}
